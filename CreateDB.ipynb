{
  "nbformat": 4,
  "nbformat_minor": 0,
  "metadata": {
    "colab": {
      "provenance": [],
      "authorship_tag": "ABX9TyOkxYQbg5q3/DANtn9mbYTE",
      "include_colab_link": true
    },
    "kernelspec": {
      "name": "python3",
      "display_name": "Python 3"
    },
    "language_info": {
      "name": "python"
    }
  },
  "cells": [
    {
      "cell_type": "markdown",
      "metadata": {
        "id": "view-in-github",
        "colab_type": "text"
      },
      "source": [
        "<a href=\"https://colab.research.google.com/github/tmccoy94/SportsData/blob/main/CreateDB.ipynb\" target=\"_parent\"><img src=\"https://colab.research.google.com/assets/colab-badge.svg\" alt=\"Open In Colab\"/></a>"
      ]
    },
    {
      "cell_type": "code",
      "execution_count": 1,
      "metadata": {
        "id": "9wbQjcHdHZgt"
      },
      "outputs": [],
      "source": [
        "import sqlite3\n",
        "import pandas as pd\n",
        "from google.colab import drive\n",
        "import os"
      ]
    },
    {
      "cell_type": "code",
      "source": [
        "#drive.flush_and_unmount() #uncomment out to fix drive issues\n",
        "drive.mount(\"/content/drive\")"
      ],
      "metadata": {
        "colab": {
          "base_uri": "https://localhost:8080/"
        },
        "id": "J4-_oYvn9Sdk",
        "outputId": "1b27f941-1b7f-4041-e06e-4e84180761cc"
      },
      "execution_count": 2,
      "outputs": [
        {
          "output_type": "stream",
          "name": "stdout",
          "text": [
            "Mounted at /content/drive\n"
          ]
        }
      ]
    },
    {
      "cell_type": "code",
      "source": [
        "os.chdir('/content/drive/MyDrive/SportsDataProject/')"
      ],
      "metadata": {
        "id": "W_EunJge4f-O"
      },
      "execution_count": 3,
      "outputs": []
    },
    {
      "cell_type": "code",
      "source": [
        "!ls"
      ],
      "metadata": {
        "colab": {
          "base_uri": "https://localhost:8080/"
        },
        "id": "ybFEDOCO-Ptz",
        "outputId": "561fbf91-63f0-4c02-846c-36c941a98ad0"
      },
      "execution_count": 4,
      "outputs": [
        {
          "output_type": "stream",
          "name": "stdout",
          "text": [
            "CreateDB.ipynb\tSportsData.db\n"
          ]
        }
      ]
    },
    {
      "cell_type": "code",
      "source": [
        "class SqliteDBManager:\n",
        "    def __init__(self, db_name):\n",
        "        \"\"\"\n",
        "        Initialize the SportsDBManager with a default database name.\n",
        "        \"\"\"\n",
        "        self.db_name = db_name #'SportsData.db'\n",
        "        self.conn = None\n",
        "\n",
        "    def connect(self):\n",
        "        \"\"\"Establish a connection to the database if not already connected.\"\"\"\n",
        "        if not self.conn:\n",
        "            self.conn = sqlite3.connect(self.db_name)\n",
        "\n",
        "    def close(self):\n",
        "        \"\"\"Close the database connection if open.\"\"\"\n",
        "        if self.conn:\n",
        "            self.conn.close()\n",
        "            self.conn = None\n",
        "\n",
        "    def check_tables(self):\n",
        "        \"\"\"Check for tables in the database.\"\"\"\n",
        "        self.connect()\n",
        "        cur = self.conn.cursor()\n",
        "        stmt = \"select name from sqlite_master where type='table'\"\n",
        "        cur.execute(stmt)\n",
        "\n",
        "        output_all = cur.fetchall()\n",
        "        for row_all in output_all:\n",
        "            print(row_all)\n",
        "\n",
        "        self.close()\n",
        "\n",
        "    def _execute_query(self, query: str, params: tuple = None, commit: bool = False) -> None:\n",
        "        \"\"\"\n",
        "        Execute a database query with error handling.\n",
        "\n",
        "        Args:\n",
        "            query (str): The SQL query to execute.\n",
        "            params (tuple, optional): Parameters to include in the query.\n",
        "            commit (bool): Whether to commit the transaction (useful for INSERT, UPDATE, DELETE).\n",
        "        \"\"\"\n",
        "        try:\n",
        "            self.connect()\n",
        "            cursor = self.conn.cursor()\n",
        "            if params:\n",
        "                cursor.execute(query, params)\n",
        "            else:\n",
        "                cursor.execute(query)\n",
        "            if commit:\n",
        "                self.conn.commit()\n",
        "        except sqlite3.Error as e:\n",
        "            print(f\"Database error: {e}\")\n",
        "        finally:\n",
        "            self.close()\n",
        "    def dataframe_query(self, query: str) -> pd.DataFrame:\n",
        "        \"\"\"\n",
        "        Execute a SQL query and return the result as a pandas DataFrame.\n",
        "        Args:\n",
        "            query (str): The SQL query to execute.\n",
        "            Returns:\n",
        "            pd.DataFrame: The result of the query as a pandas DataFrame.\n",
        "        \"\"\"\n",
        "        try:\n",
        "            self.connect()\n",
        "            df = pd.read_sql_query(query, self.conn)\n",
        "            return df\n",
        "        except sqlite3.Error as e:\n",
        "            print(f\"Database error: {e}\")\n",
        "        finally:\n",
        "            self.close()\n",
        "\n",
        "    def create_table(self, table_name: str, columns: list[tuple]) -> None:\n",
        "        \"\"\"\n",
        "        Create a table with the specified name and columns.\n",
        "\n",
        "        Args:\n",
        "            table_name (str): Name of the table.\n",
        "            columns (list of tuples): Each tuple should contain (column name, data type, primary_key (optional)).\n",
        "        \"\"\"\n",
        "        try:\n",
        "          # Build the column definitions from the list of tuples\n",
        "          column_defs = []\n",
        "          for col in columns:\n",
        "              col_def = f\"{col[0]} {col[1]}\"\n",
        "              if len(col) == 3 and col[2].upper() == \"PRIMARY KEY\":\n",
        "                  col_def += \" PRIMARY KEY\"\n",
        "              column_defs.append(col_def)\n",
        "\n",
        "          create_table_query = f\"CREATE TABLE IF NOT EXISTS {table_name} ({', '.join(column_defs)})\"\n",
        "\n",
        "          # Execute the create table query\n",
        "          self._execute_query(create_table_query, commit=True)\n",
        "          print(f\"Table '{table_name}' created successfully.\")\n",
        "        except Exception:\n",
        "            print(f\"Check self.ctdocs for help\")\n",
        "\n",
        "    def insert_table_records(self, table_name: str, records: list[tuple] = [], debug: bool = False) -> None:\n",
        "      \"\"\"\n",
        "      Insert multiple records into a table.\n",
        "\n",
        "      Args:\n",
        "          table_name (str): Name of the table.\n",
        "          records (list of tuples): Each tuple represents a record to be inserted.\n",
        "          debug (bool): If True, print debug information.\n",
        "      \"\"\"\n",
        "      # Check all basic issues with function inputs\n",
        "      if not records:\n",
        "        raise TypeError(\"records must be a non-empty list\")\n",
        "      if not isinstance(records[0], tuple):\n",
        "        raise TypeError(\"records must be a list of tuples\")\n",
        "      if not isinstance(table_name, str):\n",
        "        raise TypeError(\"table_name must be a string\")\n",
        "      if not isinstance(debug, bool):\n",
        "        raise TypeError(\"debug must be a boolean\")\n",
        "\n",
        "      try:\n",
        "        # connect to db\n",
        "        self.connect()\n",
        "        cur = self.conn.cursor()\n",
        "        # get column names of table\n",
        "        cur.execute(f\"PRAGMA table_info({table_name})\")\n",
        "        columns = [row[1] for row in cur.fetchall()]\n",
        "        # check if number of columns in table matches number of columns in records\n",
        "        if len(columns) != len(records[0]):\n",
        "          raise ValueError(\"Number of columns in table and length of the first record tuple do not match\")\n",
        "        column_names = f\"{', '.join(columns)}\"\n",
        "        marks = ', '.join(['?'] * len(columns))\n",
        "        # write query\n",
        "        insert_query = f\"\"\"INSERT INTO {table_name} ({column_names})\n",
        "        VALUES ({marks})\n",
        "        \"\"\"\n",
        "        if debug:\n",
        "          print(f\"\"\"insert query: {insert_query}\n",
        "          1st record: {records[0]}\n",
        "          \"\"\")\n",
        "          return (\"Run without debug to commit\")\n",
        "        # execute & commit\n",
        "        cur.executemany(insert_query,records)\n",
        "        self.conn.commit()\n",
        "        print(\"Records inserted successfully\")\n",
        "      except sqlite3.Error as e:\n",
        "        print(f\"Database error: {e}\")\n",
        "      except TypeError as e:\n",
        "        print(f\"Type error test: {e}\")\n",
        "      finally:\n",
        "        self.close()\n"
      ],
      "metadata": {
        "id": "CWEmA8f103Ob"
      },
      "execution_count": 9,
      "outputs": []
    },
    {
      "cell_type": "code",
      "source": [
        "manager = SqliteDBManager(\"SportsData.db\")"
      ],
      "metadata": {
        "id": "sMmR4B46mNk9"
      },
      "execution_count": 6,
      "outputs": []
    },
    {
      "cell_type": "code",
      "source": [
        "manager.check_tables()"
      ],
      "metadata": {
        "colab": {
          "base_uri": "https://localhost:8080/"
        },
        "id": "19wdwR3aFJBR",
        "outputId": "fe670359-3515-4039-8461-1739cdedf273"
      },
      "execution_count": 7,
      "outputs": [
        {
          "output_type": "stream",
          "name": "stdout",
          "text": [
            "('LEAGUE',)\n"
          ]
        }
      ]
    },
    {
      "cell_type": "code",
      "source": [
        "records = [('serial', 'us', 'nfl', 'nfl_tr', 'american football')]\n",
        "manager.insert_table_records('LEAGUE',records, debug=True)"
      ],
      "metadata": {
        "colab": {
          "base_uri": "https://localhost:8080/",
          "height": 280
        },
        "id": "gcLvalCOSUZN",
        "outputId": "f8aaee73-dc6b-403c-d99e-e858041ca586"
      },
      "execution_count": 8,
      "outputs": [
        {
          "output_type": "error",
          "ename": "ValueError",
          "evalue": "Number of columns in table and records do not match",
          "traceback": [
            "\u001b[0;31m---------------------------------------------------------------------------\u001b[0m",
            "\u001b[0;31mValueError\u001b[0m                                Traceback (most recent call last)",
            "\u001b[0;32m<ipython-input-8-e9e4653b160d>\u001b[0m in \u001b[0;36m<cell line: 2>\u001b[0;34m()\u001b[0m\n\u001b[1;32m      1\u001b[0m \u001b[0mrecords\u001b[0m \u001b[0;34m=\u001b[0m \u001b[0;34m[\u001b[0m\u001b[0;34m(\u001b[0m\u001b[0;34m'serial'\u001b[0m\u001b[0;34m,\u001b[0m \u001b[0;34m'us'\u001b[0m\u001b[0;34m,\u001b[0m \u001b[0;34m'nfl'\u001b[0m\u001b[0;34m,\u001b[0m \u001b[0;34m'nfl_tr'\u001b[0m\u001b[0;34m,\u001b[0m \u001b[0;34m'american football'\u001b[0m\u001b[0;34m)\u001b[0m\u001b[0;34m]\u001b[0m\u001b[0;34m\u001b[0m\u001b[0;34m\u001b[0m\u001b[0m\n\u001b[0;32m----> 2\u001b[0;31m \u001b[0mmanager\u001b[0m\u001b[0;34m.\u001b[0m\u001b[0minsert_table_records\u001b[0m\u001b[0;34m(\u001b[0m\u001b[0;34m'LEAGUE'\u001b[0m\u001b[0;34m,\u001b[0m\u001b[0mrecords\u001b[0m\u001b[0;34m,\u001b[0m \u001b[0mdebug\u001b[0m\u001b[0;34m=\u001b[0m\u001b[0;32mTrue\u001b[0m\u001b[0;34m)\u001b[0m\u001b[0;34m\u001b[0m\u001b[0;34m\u001b[0m\u001b[0m\n\u001b[0m",
            "\u001b[0;32m<ipython-input-5-7387de1a3794>\u001b[0m in \u001b[0;36minsert_table_records\u001b[0;34m(self, table_name, records, debug)\u001b[0m\n\u001b[1;32m    123\u001b[0m         \u001b[0;31m# check if number of columns in table matches number of columns in records\u001b[0m\u001b[0;34m\u001b[0m\u001b[0;34m\u001b[0m\u001b[0m\n\u001b[1;32m    124\u001b[0m         \u001b[0;32mif\u001b[0m \u001b[0mlen\u001b[0m\u001b[0;34m(\u001b[0m\u001b[0mcolumns\u001b[0m\u001b[0;34m)\u001b[0m \u001b[0;34m!=\u001b[0m \u001b[0mlen\u001b[0m\u001b[0;34m(\u001b[0m\u001b[0mrecords\u001b[0m\u001b[0;34m[\u001b[0m\u001b[0;36m0\u001b[0m\u001b[0;34m]\u001b[0m\u001b[0;34m)\u001b[0m\u001b[0;34m:\u001b[0m\u001b[0;34m\u001b[0m\u001b[0;34m\u001b[0m\u001b[0m\n\u001b[0;32m--> 125\u001b[0;31m           \u001b[0;32mraise\u001b[0m \u001b[0mValueError\u001b[0m\u001b[0;34m(\u001b[0m\u001b[0;34m\"Number of columns in table and records do not match\"\u001b[0m\u001b[0;34m)\u001b[0m\u001b[0;34m\u001b[0m\u001b[0;34m\u001b[0m\u001b[0m\n\u001b[0m\u001b[1;32m    126\u001b[0m         \u001b[0mcolumn_names\u001b[0m \u001b[0;34m=\u001b[0m \u001b[0;34mf\"{', '.join(columns)}\"\u001b[0m\u001b[0;34m\u001b[0m\u001b[0;34m\u001b[0m\u001b[0m\n\u001b[1;32m    127\u001b[0m         \u001b[0mmarks\u001b[0m \u001b[0;34m=\u001b[0m \u001b[0;34m', '\u001b[0m\u001b[0;34m.\u001b[0m\u001b[0mjoin\u001b[0m\u001b[0;34m(\u001b[0m\u001b[0;34m[\u001b[0m\u001b[0;34m'?'\u001b[0m\u001b[0;34m]\u001b[0m \u001b[0;34m*\u001b[0m \u001b[0mlen\u001b[0m\u001b[0;34m(\u001b[0m\u001b[0mcolumns\u001b[0m\u001b[0;34m)\u001b[0m\u001b[0;34m)\u001b[0m\u001b[0;34m\u001b[0m\u001b[0;34m\u001b[0m\u001b[0m\n",
            "\u001b[0;31mValueError\u001b[0m: Number of columns in table and records do not match"
          ]
        }
      ]
    },
    {
      "cell_type": "code",
      "source": [
        "manager.dataframe_query(\"select * from LEAGUE\")"
      ],
      "metadata": {
        "colab": {
          "base_uri": "https://localhost:8080/",
          "height": 53
        },
        "id": "RCWiPSk9ybnU",
        "outputId": "280a9806-177e-4761-ca26-c04cb907bbc7"
      },
      "execution_count": null,
      "outputs": [
        {
          "output_type": "execute_result",
          "data": {
            "text/plain": [
              "Empty DataFrame\n",
              "Columns: [SERIAL, REGION, NAME, TR_URL_NAME, ODDS_URL_NAME, SPORT]\n",
              "Index: []"
            ],
            "text/html": [
              "\n",
              "  <div id=\"df-08500ca0-4593-4fc9-b19e-524d6fca2c8d\" class=\"colab-df-container\">\n",
              "    <div>\n",
              "<style scoped>\n",
              "    .dataframe tbody tr th:only-of-type {\n",
              "        vertical-align: middle;\n",
              "    }\n",
              "\n",
              "    .dataframe tbody tr th {\n",
              "        vertical-align: top;\n",
              "    }\n",
              "\n",
              "    .dataframe thead th {\n",
              "        text-align: right;\n",
              "    }\n",
              "</style>\n",
              "<table border=\"1\" class=\"dataframe\">\n",
              "  <thead>\n",
              "    <tr style=\"text-align: right;\">\n",
              "      <th></th>\n",
              "      <th>SERIAL</th>\n",
              "      <th>REGION</th>\n",
              "      <th>NAME</th>\n",
              "      <th>TR_URL_NAME</th>\n",
              "      <th>ODDS_URL_NAME</th>\n",
              "      <th>SPORT</th>\n",
              "    </tr>\n",
              "  </thead>\n",
              "  <tbody>\n",
              "  </tbody>\n",
              "</table>\n",
              "</div>\n",
              "    <div class=\"colab-df-buttons\">\n",
              "\n",
              "  <div class=\"colab-df-container\">\n",
              "    <button class=\"colab-df-convert\" onclick=\"convertToInteractive('df-08500ca0-4593-4fc9-b19e-524d6fca2c8d')\"\n",
              "            title=\"Convert this dataframe to an interactive table.\"\n",
              "            style=\"display:none;\">\n",
              "\n",
              "  <svg xmlns=\"http://www.w3.org/2000/svg\" height=\"24px\" viewBox=\"0 -960 960 960\">\n",
              "    <path d=\"M120-120v-720h720v720H120Zm60-500h600v-160H180v160Zm220 220h160v-160H400v160Zm0 220h160v-160H400v160ZM180-400h160v-160H180v160Zm440 0h160v-160H620v160ZM180-180h160v-160H180v160Zm440 0h160v-160H620v160Z\"/>\n",
              "  </svg>\n",
              "    </button>\n",
              "\n",
              "  <style>\n",
              "    .colab-df-container {\n",
              "      display:flex;\n",
              "      gap: 12px;\n",
              "    }\n",
              "\n",
              "    .colab-df-convert {\n",
              "      background-color: #E8F0FE;\n",
              "      border: none;\n",
              "      border-radius: 50%;\n",
              "      cursor: pointer;\n",
              "      display: none;\n",
              "      fill: #1967D2;\n",
              "      height: 32px;\n",
              "      padding: 0 0 0 0;\n",
              "      width: 32px;\n",
              "    }\n",
              "\n",
              "    .colab-df-convert:hover {\n",
              "      background-color: #E2EBFA;\n",
              "      box-shadow: 0px 1px 2px rgba(60, 64, 67, 0.3), 0px 1px 3px 1px rgba(60, 64, 67, 0.15);\n",
              "      fill: #174EA6;\n",
              "    }\n",
              "\n",
              "    .colab-df-buttons div {\n",
              "      margin-bottom: 4px;\n",
              "    }\n",
              "\n",
              "    [theme=dark] .colab-df-convert {\n",
              "      background-color: #3B4455;\n",
              "      fill: #D2E3FC;\n",
              "    }\n",
              "\n",
              "    [theme=dark] .colab-df-convert:hover {\n",
              "      background-color: #434B5C;\n",
              "      box-shadow: 0px 1px 3px 1px rgba(0, 0, 0, 0.15);\n",
              "      filter: drop-shadow(0px 1px 2px rgba(0, 0, 0, 0.3));\n",
              "      fill: #FFFFFF;\n",
              "    }\n",
              "  </style>\n",
              "\n",
              "    <script>\n",
              "      const buttonEl =\n",
              "        document.querySelector('#df-08500ca0-4593-4fc9-b19e-524d6fca2c8d button.colab-df-convert');\n",
              "      buttonEl.style.display =\n",
              "        google.colab.kernel.accessAllowed ? 'block' : 'none';\n",
              "\n",
              "      async function convertToInteractive(key) {\n",
              "        const element = document.querySelector('#df-08500ca0-4593-4fc9-b19e-524d6fca2c8d');\n",
              "        const dataTable =\n",
              "          await google.colab.kernel.invokeFunction('convertToInteractive',\n",
              "                                                    [key], {});\n",
              "        if (!dataTable) return;\n",
              "\n",
              "        const docLinkHtml = 'Like what you see? Visit the ' +\n",
              "          '<a target=\"_blank\" href=https://colab.research.google.com/notebooks/data_table.ipynb>data table notebook</a>'\n",
              "          + ' to learn more about interactive tables.';\n",
              "        element.innerHTML = '';\n",
              "        dataTable['output_type'] = 'display_data';\n",
              "        await google.colab.output.renderOutput(dataTable, element);\n",
              "        const docLink = document.createElement('div');\n",
              "        docLink.innerHTML = docLinkHtml;\n",
              "        element.appendChild(docLink);\n",
              "      }\n",
              "    </script>\n",
              "  </div>\n",
              "\n",
              "\n",
              "    </div>\n",
              "  </div>\n"
            ],
            "application/vnd.google.colaboratory.intrinsic+json": {
              "type": "dataframe",
              "repr_error": "Out of range float values are not JSON compliant: nan"
            }
          },
          "metadata": {},
          "execution_count": 38
        }
      ]
    }
  ]
}